{
  "nbformat": 4,
  "nbformat_minor": 0,
  "metadata": {
    "colab": {
      "provenance": [],
      "authorship_tag": "ABX9TyPvoNgdJTEb0Y1ITCyZ3bti",
      "include_colab_link": true
    },
    "kernelspec": {
      "name": "python3",
      "display_name": "Python 3"
    },
    "language_info": {
      "name": "python"
    }
  },
  "cells": [
    {
      "cell_type": "markdown",
      "metadata": {
        "id": "view-in-github",
        "colab_type": "text"
      },
      "source": [
        "<a href=\"https://colab.research.google.com/github/fauziinzaghi17/2106124-Praktikum-Kecerdasan-Buatan/blob/main/2106124_Irvan_Rizki_Fauzi_latihan_data_mining.ipynb\" target=\"_parent\"><img src=\"https://colab.research.google.com/assets/colab-badge.svg\" alt=\"Open In Colab\"/></a>"
      ]
    },
    {
      "cell_type": "code",
      "execution_count": 1,
      "metadata": {
        "id": "Ft18y2W2hOad"
      },
      "outputs": [],
      "source": [
        "import pandas as pd\n",
        "import numpy as np"
      ]
    },
    {
      "cell_type": "code",
      "source": [
        "# input data \n",
        "data = pd.read_csv('healthcare-dataset-stroke-data.csv')\n",
        "data.head()"
      ],
      "metadata": {
        "id": "CDdPMoGhhzS6"
      },
      "execution_count": null,
      "outputs": []
    },
    {
      "cell_type": "code",
      "source": [
        "from sklearn.preprocessing import  LabelEncoder"
      ],
      "metadata": {
        "id": "QbPd3rmZjupF"
      },
      "execution_count": 4,
      "outputs": []
    },
    {
      "cell_type": "code",
      "source": [
        "enc = LabelEncoder()"
      ],
      "metadata": {
        "id": "ltrTQXTAkEcC"
      },
      "execution_count": 5,
      "outputs": []
    },
    {
      "cell_type": "code",
      "source": [
        "  data['gender'] = enc.fit_transform(data['gender'].values)\n",
        "  data['hypertension'] = enc.fit_transform(data['hypertension'].values)\n",
        "  data['heart_disease'] = enc.fit_transform(data['heart_disease'].values)\n",
        "  data['ever_married'] = enc.fit_transform(data['ever_married'].values)\n",
        "  data['work_type'] = enc.fit_transform(data['work_type'].values)\n",
        "  data['Residence_type'] = enc.fit_transform(data['Residence_type'].values)\n",
        "  data['smoking_status'] = enc.fit_transform(data['smoking_status'].values)\n",
        "  data['bmi'] = enc.fit_transform(data['bmi'].values)"
      ],
      "metadata": {
        "id": "GKrlnnoSkO69"
      },
      "execution_count": 13,
      "outputs": []
    },
    {
      "cell_type": "code",
      "source": [
        "atr_data = data.drop(columns='stroke')\n",
        "atr_data.head()"
      ],
      "metadata": {
        "id": "LMxhCVhgnh0-"
      },
      "execution_count": null,
      "outputs": []
    },
    {
      "cell_type": "code",
      "source": [
        "cls_data = data['stroke']\n",
        "cls_data.head()"
      ],
      "metadata": {
        "id": "Hrmjs3OMoBUC"
      },
      "execution_count": null,
      "outputs": []
    },
    {
      "cell_type": "code",
      "source": [
        "from sklearn.model_selection import  train_test_split\n",
        "from sklearn.metrics import accuracy_score, confusion_matrix, classification_report\n",
        "from sklearn.naive_bayes import GaussianNB\n"
      ],
      "metadata": {
        "id": "Px50Ds77qIs3"
      },
      "execution_count": 20,
      "outputs": []
    },
    {
      "cell_type": "code",
      "source": [
        "xtrain, xtest, ytrain, ytest = train_test_split(atr_data, cls_data, test_size=0.5, random_state=500)\n",
        "tree_data = GaussianNB()\n",
        "tree_data.fit(xtrain, ytrain) "
      ],
      "metadata": {
        "id": "XtSo-rmEsSQ3"
      },
      "execution_count": null,
      "outputs": []
    },
    {
      "cell_type": "code",
      "source": [
        "tree_data.class_count_"
      ],
      "metadata": {
        "id": "o0N7uUKOuROb"
      },
      "execution_count": null,
      "outputs": []
    },
    {
      "cell_type": "code",
      "source": [
        " print(\"Nilai akurasi pada data testing:\", tree_data.score(xtest, ytest))"
      ],
      "metadata": {
        "id": "QsFxjnfcucYl"
      },
      "execution_count": null,
      "outputs": []
    }
  ]
}